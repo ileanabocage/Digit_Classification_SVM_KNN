{
 "cells": [
  {
   "cell_type": "markdown",
   "metadata": {},
   "source": [
    "**Handwritten Digit Classification with SVM or KNN**"
   ]
  },
  {
   "cell_type": "code",
   "execution_count": 25,
   "metadata": {},
   "outputs": [],
   "source": [
    "import numpy as np\n",
    "import matplotlib.pyplot as plt\n",
    "import tensorflow as tf\n",
    "import tensorflow_datasets as tfds\n",
    "from sklearn.decomposition import PCA\n",
    "from sklearn.svm import SVC\n",
    "from sklearn.metrics import accuracy_score, classification_report, confusion_matrix\n",
    "from sklearn.neighbors import KNeighborsClassifier\n",
    "from sklearn.model_selection import cross_val_score"
   ]
  },
  {
   "cell_type": "code",
   "execution_count": 26,
   "metadata": {},
   "outputs": [],
   "source": [
    "# Load the MNIST dataset\n",
    "train_data, val_data, test_data = tfds.load('mnist', split=['train[:80%]', 'train[80%:]','test'], as_supervised=True)"
   ]
  },
  {
   "cell_type": "code",
   "execution_count": 27,
   "metadata": {},
   "outputs": [],
   "source": [
    "# Preprocess data by normalizing and reshaping\n",
    "def preprocess(image, label):\n",
    "    image = tf.image.convert_image_dtype(image, tf.float32) / 255.0\n",
    "    return tf.reshape(image, [-1]).numpy(), label.numpy()"
   ]
  },
  {
   "cell_type": "code",
   "execution_count": 28,
   "metadata": {},
   "outputs": [
    {
     "name": "stderr",
     "output_type": "stream",
     "text": [
      "2024-12-04 10:18:20.473720: I tensorflow/core/framework/local_rendezvous.cc:405] Local rendezvous is aborting with status: OUT_OF_RANGE: End of sequence\n"
     ]
    }
   ],
   "source": [
    "# Split data into samples and labels for each set\n",
    "x_train, y_train = zip(*[preprocess(image, label) for image, label in train_data])\n",
    "x_train, y_train = np.array(x_train), np.array(y_train)\n",
    "\n",
    "x_val, y_val = zip(*[preprocess(image, label) for image, label in val_data])\n",
    "x_val, y_val = np.array(x_val), np.array(y_val)\n",
    "\n",
    "x_test, y_test = zip(*[preprocess(image, label) for image, label in test_data])\n",
    "x_test, y_test = np.array(x_test), np.array(y_test)"
   ]
  },
  {
   "cell_type": "code",
   "execution_count": 29,
   "metadata": {},
   "outputs": [],
   "source": [
    "# Apply PCA for dimensionality reduction\n",
    "pca = PCA(n_components=100)\n",
    "\n",
    "x_train_pca = pca.fit_transform(x_train)\n",
    "x_val_pca = pca.transform(x_val)\n",
    "x_test_pca = pca.transform(x_test)"
   ]
  },
  {
   "cell_type": "markdown",
   "metadata": {},
   "source": [
    "**SVM**"
   ]
  },
  {
   "cell_type": "code",
   "execution_count": 6,
   "metadata": {},
   "outputs": [],
   "source": [
    "# Function for training using SVM\n",
    "def SVM(kernel, C, gamma, x_train, y_train):\n",
    "    svm_model = SVC(kernel=kernel, C=C, gamma=gamma)\n",
    "    svm_model.fit(x_train, y_train)\n",
    "    return svm_model"
   ]
  },
  {
   "cell_type": "code",
   "execution_count": 8,
   "metadata": {},
   "outputs": [],
   "source": [
    "svm_model_linear = SVM('linear', 1.0, 'scale', x_train_pca, y_train)"
   ]
  },
  {
   "cell_type": "code",
   "execution_count": null,
   "metadata": {},
   "outputs": [],
   "source": [
    "# Train SVM with Linear kernel and Radial Basis Function (RBF) kernel\n",
    "svm_model_linear = SVM('linear', 1.0, 'scale', x_train_pca, y_train)\n",
    "svm_model_rbf = SVM('rbf', 1.0, 'scale', x_train_pca, y_train)"
   ]
  },
  {
   "cell_type": "code",
   "execution_count": 10,
   "metadata": {},
   "outputs": [
    {
     "name": "stdout",
     "output_type": "stream",
     "text": [
      "SVM Accuracy:\n",
      "Linear Kernel:\n",
      "SVM Accuracy on validation set: 0.69\n",
      "SVM Accuracy on test set: 0.71\n",
      "\n",
      "Radial Bais Function (RBF) Kernel:\n",
      "SVM Accuracy on validation set: 0.98\n",
      "SVM Accuracy on test set: 0.98\n"
     ]
    }
   ],
   "source": [
    "# Linear Kernel\n",
    "# SVM Prediction on validation data and accuracy score\n",
    "svm_pred_val_linear = svm_model_linear.predict(x_val_pca)\n",
    "svm_acc_val_linear = accuracy_score(y_val, svm_pred_val_linear)\n",
    "\n",
    "# SVM Prediction on test data and accuracy score\n",
    "svm_pred_test_linear = svm_model_linear.predict(x_test_pca)\n",
    "svm_acc_test_linear = accuracy_score(y_test, svm_pred_test_linear)\n",
    "\n",
    "# RBF Kernel\n",
    "# SVM Prediction on validation data and accuracy score\n",
    "svm_pred_val_rbf = svm_model_rbf.predict(x_val_pca)\n",
    "svm_acc_val_rbf = accuracy_score(y_val, svm_pred_val_rbf)\n",
    "\n",
    "# SVM Prediction on test data and accuracy score\n",
    "svm_pred_test_rbf = svm_model_rbf.predict(x_test_pca)\n",
    "svm_acc_test_rbf = accuracy_score(y_test, svm_pred_test_rbf)\n",
    "\n",
    "print(\"SVM Accuracy:\")\n",
    "print(\"Linear Kernel:\")\n",
    "print(f\"SVM Accuracy on validation set: {svm_acc_val_linear:.2f}\")\n",
    "print(f\"SVM Accuracy on test set: {svm_acc_test_linear:.2f}\\n\")\n",
    "print(\"Radial Bais Function (RBF) Kernel:\")\n",
    "print(f\"SVM Accuracy on validation set: {svm_acc_val_rbf:.2f}\")\n",
    "print(f\"SVM Accuracy on test set: {svm_acc_test_rbf:.2f}\")"
   ]
  },
  {
   "cell_type": "markdown",
   "metadata": {},
   "source": [
    "**KNN**"
   ]
  },
  {
   "cell_type": "code",
   "execution_count": 11,
   "metadata": {},
   "outputs": [],
   "source": [
    "# Function for training using KNN\n",
    "def KNN(k, x_train, y_train):\n",
    "    knn_model = KNeighborsClassifier(n_neighbors=k)\n",
    "    knn_model.fit(x_train, y_train)\n",
    "    return knn_model"
   ]
  },
  {
   "cell_type": "code",
   "execution_count": 12,
   "metadata": {},
   "outputs": [],
   "source": [
    "# Train KNN \n",
    "knn_model = KNN(3, x_train_pca, y_train)"
   ]
  },
  {
   "cell_type": "code",
   "execution_count": 13,
   "metadata": {},
   "outputs": [
    {
     "name": "stdout",
     "output_type": "stream",
     "text": [
      "KNN Accuracy on validation set: 0.97\n",
      "KNN Accuracy on test set: 0.97\n"
     ]
    }
   ],
   "source": [
    "# KNN Prediction on validation data and accuracy score\n",
    "knn_pred_val = knn_model.predict(x_val_pca)\n",
    "knn_acc_val = accuracy_score(y_val, knn_pred_val)\n",
    "print(f\"KNN Accuracy on validation set: {knn_acc_val:.2f}\")\n",
    "\n",
    "# KNN Prediction on test data and accuracy score\n",
    "knn_pred_test = knn_model.predict(x_test_pca)\n",
    "knn_acc_test = accuracy_score(y_test, knn_pred_test)\n",
    "print(f\"KNN Accuracy on test set: {knn_acc_test:.2f}\")"
   ]
  },
  {
   "cell_type": "code",
   "execution_count": 24,
   "metadata": {},
   "outputs": [
    {
     "name": "stdout",
     "output_type": "stream",
     "text": [
      "Cross Validation Score: 0.97\n"
     ]
    }
   ],
   "source": [
    "# KNN K-Fold Cross Validation\n",
    "cv_scores = cross_val_score(knn_model, x_train_pca, y_train, cv=3)\n",
    "print(f\"Cross Validation Score: {cv_scores.mean():.2f}\")"
   ]
  },
  {
   "cell_type": "code",
   "execution_count": 14,
   "metadata": {},
   "outputs": [
    {
     "name": "stdout",
     "output_type": "stream",
     "text": [
      "SVM Classification Report using RBF:\n",
      "               precision    recall  f1-score   support\n",
      "\n",
      "           0       0.98      0.99      0.99       980\n",
      "           1       0.99      0.99      0.99      1135\n",
      "           2       0.98      0.98      0.98      1032\n",
      "           3       0.98      0.99      0.98      1010\n",
      "           4       0.98      0.98      0.98       982\n",
      "           5       0.98      0.98      0.98       892\n",
      "           6       0.99      0.98      0.99       958\n",
      "           7       0.98      0.98      0.98      1028\n",
      "           8       0.98      0.98      0.98       974\n",
      "           9       0.98      0.97      0.97      1009\n",
      "\n",
      "    accuracy                           0.98     10000\n",
      "   macro avg       0.98      0.98      0.98     10000\n",
      "weighted avg       0.98      0.98      0.98     10000\n",
      "\n",
      "KNN Classification Report:\n",
      "               precision    recall  f1-score   support\n",
      "\n",
      "           0       0.97      0.99      0.98       980\n",
      "           1       0.96      1.00      0.98      1135\n",
      "           2       0.98      0.97      0.98      1032\n",
      "           3       0.97      0.97      0.97      1010\n",
      "           4       0.98      0.97      0.97       982\n",
      "           5       0.97      0.97      0.97       892\n",
      "           6       0.98      0.99      0.98       958\n",
      "           7       0.96      0.96      0.96      1028\n",
      "           8       0.99      0.95      0.97       974\n",
      "           9       0.97      0.96      0.96      1009\n",
      "\n",
      "    accuracy                           0.97     10000\n",
      "   macro avg       0.97      0.97      0.97     10000\n",
      "weighted avg       0.97      0.97      0.97     10000\n",
      "\n"
     ]
    }
   ],
   "source": [
    "# Print classification reports\n",
    "print(\"SVM Classification Report using RBF:\\n\", classification_report(y_test, svm_pred_test_rbf))\n",
    "print(\"KNN Classification Report:\\n\", classification_report(y_test, knn_pred_test))"
   ]
  },
  {
   "cell_type": "code",
   "execution_count": 15,
   "metadata": {},
   "outputs": [
    {
     "data": {
      "image/png": "[encoded data removed]",
      "text/plain": [
       "<Figure size 1200x600 with 4 Axes>"
      ]
     },
     "metadata": {},
     "output_type": "display_data"
    }
   ],
   "source": [
    "# Plot confusion matrices\n",
    "plt.figure(figsize=(12, 6))\n",
    "plt.subplot(1, 2, 1)\n",
    "plt.title(\"SVM Confusion Matrix\")\n",
    "plt.imshow(confusion_matrix(y_test, svm_pred_test_rbf), cmap=plt.cm.Blues)\n",
    "plt.colorbar()\n",
    "plt.xlabel(\"Predicted label\")\n",
    "plt.ylabel(\"True label\")\n",
    "\n",
    "plt.subplot(1, 2, 2)\n",
    "plt.title(\"KNN Confusion Matrix\")\n",
    "plt.imshow(confusion_matrix(y_test, knn_pred_test), cmap=plt.cm.Blues)\n",
    "plt.colorbar()\n",
    "plt.xlabel(\"Predicted label\")\n",
    "plt.ylabel(\"True label\")\n",
    "\n",
    "plt.show()"
   ]
  }
 ],
 "metadata": {
  "kernelspec": {
   "display_name": ".venv",
   "language": "python",
   "name": "python3"
  },
  "language_info": {
   "codemirror_mode": {
    "name": "ipython",
    "version": 3
   },
   "file_extension": ".py",
   "mimetype": "text/x-python",
   "name": "python",
   "nbconvert_exporter": "python",
   "pygments_lexer": "ipython3",
   "version": "3.12.2"
  }
 },
 "nbformat": 4,
 "nbformat_minor": 2
}
